{
 "cells": [
  {
   "cell_type": "code",
   "execution_count": null,
   "id": "94cb205e",
   "metadata": {},
   "outputs": [],
   "source": [
    "#Quinn Boerger\n",
    "#Project 4\n",
    "#6/15/2025\n",
    "\n"
   ]
  },
  {
   "cell_type": "code",
   "execution_count": null,
   "id": "e59efada",
   "metadata": {},
   "outputs": [
    {
     "name": "stdout",
     "output_type": "stream",
     "text": [
      "Validation Accuracy: 0.7978\n",
      "✅ Created submission.csv with 4277 rows.\n"
     ]
    },
    {
     "name": "stderr",
     "output_type": "stream",
     "text": [
      "C:\\Users\\lesli\\AppData\\Local\\Temp\\ipykernel_26816\\282444063.py:31: FutureWarning: DataFrame.fillna with 'method' is deprecated and will raise in a future version. Use obj.ffill() or obj.bfill() instead.\n",
      "  test.fillna(method='ffill', inplace=True)\n",
      "C:\\Users\\lesli\\AppData\\Local\\Temp\\ipykernel_26816\\282444063.py:31: FutureWarning: Downcasting object dtype arrays on .fillna, .ffill, .bfill is deprecated and will change in a future version. Call result.infer_objects(copy=False) instead. To opt-in to the future behavior, set `pd.set_option('future.no_silent_downcasting', True)`\n",
      "  test.fillna(method='ffill', inplace=True)\n"
     ]
    }
   ],
   "source": [
    "import pandas as pd\n",
    "from sklearn.ensemble import RandomForestClassifier\n",
    "from sklearn.model_selection import train_test_split\n",
    "from sklearn.metrics import accuracy_score\n",
    "\n",
    "def load_and_clean_train():\n",
    "    df = pd.read_csv(\"train.csv\")\n",
    "\n",
    "    df = df[['PassengerId', 'HomePlanet', 'CryoSleep', 'Destination', 'Age', 'VIP',\n",
    "             'RoomService', 'FoodCourt', 'ShoppingMall', 'Spa', 'VRDeck', 'Transported']]\n",
    "\n",
    "    df.dropna(inplace=True)\n",
    "\n",
    "    df['CryoSleep'] = df['CryoSleep'].astype(int)\n",
    "    df['VIP'] = df['VIP'].astype(int)\n",
    "    df['Transported'] = df['Transported'].astype(int)\n",
    "\n",
    "    df = pd.get_dummies(df, columns=['HomePlanet', 'Destination'])\n",
    "\n",
    "    return df\n",
    "\n",
    "def load_and_clean_test(required_columns):\n",
    "    test = pd.read_csv(\"test.csv\")\n",
    "    passenger_ids = test['PassengerId']\n",
    "\n",
    "    test = test[['HomePlanet', 'CryoSleep', 'Destination', 'Age', 'VIP',\n",
    "                 'RoomService', 'FoodCourt', 'ShoppingMall', 'Spa', 'VRDeck']]\n",
    "\n",
    "    test.fillna(method='ffill', inplace=True)\n",
    "    test['CryoSleep'] = test['CryoSleep'].astype(int)\n",
    "    test['VIP'] = test['VIP'].astype(int)\n",
    "    test = pd.get_dummies(test)\n",
    "\n",
    "    for col in required_columns:\n",
    "        if col not in test.columns:\n",
    "            test[col] = 0\n",
    "    test = test[required_columns]\n",
    "\n",
    "    return test, passenger_ids\n",
    "\n",
    "def main():\n",
    "    df = load_and_clean_train()\n",
    "    X = df.drop(['PassengerId', 'Transported'], axis=1)\n",
    "    y = df['Transported']\n",
    "\n",
    "    X_train, X_val, y_train, y_val = train_test_split(X, y, test_size=0.2, random_state=42)\n",
    "\n",
    "    model = RandomForestClassifier(random_state=42)\n",
    "    model.fit(X_train, y_train)\n",
    "    val_preds = model.predict(X_val)\n",
    "    acc = accuracy_score(y_val, val_preds)\n",
    "    print(f\"Validation Accuracy: {acc:.4f}\")\n",
    "\n",
    "    X_test, ids = load_and_clean_test(X.columns)\n",
    "    preds = model.predict(X_test)\n",
    "\n",
    "    submission = pd.DataFrame({\n",
    "        \"PassengerId\": ids,\n",
    "        \"Transported\": preds.astype(bool)\n",
    "    })\n",
    "\n",
    "    submission.to_csv(\"submission.csv\", index=False)\n",
    "    print(\"Created submission.csv with\", submission.shape[0], \"rows.\")\n",
    "\n",
    "if __name__ == \"__main__\":\n",
    "    main()\n",
    "\n"
   ]
  },
  {
   "cell_type": "code",
   "execution_count": null,
   "id": "0446f6ca",
   "metadata": {},
   "outputs": [],
   "source": [
    "\n"
   ]
  }
 ],
 "metadata": {
  "kernelspec": {
   "display_name": "Python 3",
   "language": "python",
   "name": "python3"
  },
  "language_info": {
   "codemirror_mode": {
    "name": "ipython",
    "version": 3
   },
   "file_extension": ".py",
   "mimetype": "text/x-python",
   "name": "python",
   "nbconvert_exporter": "python",
   "pygments_lexer": "ipython3",
   "version": "3.10.7"
  }
 },
 "nbformat": 4,
 "nbformat_minor": 5
}
